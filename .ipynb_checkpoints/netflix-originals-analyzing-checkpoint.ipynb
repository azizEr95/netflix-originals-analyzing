{
 "cells": [
  {
   "cell_type": "code",
   "execution_count": null,
   "id": "73269caf-078f-4cfb-bd33-7a5dae30a305",
   "metadata": {},
   "outputs": [
    {
     "ename": "",
     "evalue": "",
     "output_type": "error",
     "traceback": [
      "\u001b[1;31mRunning cells with 'Python 3.13.2' requires the ipykernel package.\n",
      "\u001b[1;31mRun the following command to install 'ipykernel' into the Python environment. \n",
      "\u001b[1;31mCommand: '/opt/homebrew/bin/python3 -m pip install ipykernel -U --user --force-reinstall'"
     ]
    }
   ],
   "source": [
    "import pandas as pd\n",
    "import numpy as np\n",
    "%matplotlib inline\n",
    "import matplotlib.pyplot as plt\n",
    "import re"
   ]
  },
  {
   "cell_type": "markdown",
   "id": "d852de1c-85ee-4328-ab89-663bab01fede",
   "metadata": {
    "jp-MarkdownHeadingCollapsed": true
   },
   "source": [
    "#### Hilfsfunktionen"
   ]
  },
  {
   "cell_type": "code",
   "execution_count": null,
   "id": "3efd0e97-84e9-432e-abef-82282df37811",
   "metadata": {},
   "outputs": [],
   "source": [
    "def extract_avg_of_runtime(df):\n",
    "    \"\"\"Extrahiert den durchschnittlichen Runtime-Wert aus der Spalte 'Runtime' und ersetzt ihn durch die Minutenanzahl.\"\"\"\n",
    "    \n",
    "    def extract_runtime(runtime):\n",
    "        \"\"\"Extrahiert die Minuten oder den Durchschnitt aus der Runtime-Spalte.\"\"\"\n",
    "        \n",
    "        if pd.isna(runtime):\n",
    "            return np.nan\n",
    "        \n",
    "        # Falls der Wert bereits eine Zahl ist (nach dem ersten Aufruf)\n",
    "        if isinstance(runtime, (int, float)):\n",
    "            return runtime\n",
    "        \n",
    "        # Prüfen, ob die Runtime in Minuten angegeben ist\n",
    "        if \"minutes:\" in runtime:\n",
    "            try:\n",
    "                minutes = int(runtime.split(\"minutes:\")[1].strip())\n",
    "                return minutes\n",
    "            except ValueError:\n",
    "                return np.nan\n",
    "        \n",
    "        # Prüfen, ob der Durchschnitt angegeben ist\n",
    "        if \"avg:\" in runtime: \n",
    "            try:\n",
    "                avg = int(runtime.split(\"avg:\")[1].strip())\n",
    "                return avg\n",
    "            except ValueError:\n",
    "                return np.nan\n",
    "\n",
    "        # Falls der Wert nicht im erwarteten Format ist\n",
    "        return np.nan\n",
    "    \n",
    "    # Anwenden der Funktion auf die Runtime Spalte\n",
    "    df.loc[:, \"Runtime\"] = df[\"Runtime\"].apply(extract_runtime)\n",
    "\n",
    "    return df"
   ]
  },
  {
   "cell_type": "code",
   "execution_count": null,
   "id": "8d5ecf4f-1e09-4666-b904-591f9c6f17cc",
   "metadata": {},
   "outputs": [],
   "source": [
    "#für die Funktion 'cleaning_movies'\n",
    "def clean_and_convert_runtime_to_minutes(df):\n",
    "    '''Die Spalte Runtime in netflix_movies.csv wird durch unnoetige Zeichen bereinigt und die Filmzeit in Minuten konvertiert'''\n",
    "\n",
    "    # Ersetze \".\" mit einem Leerzeichen\n",
    "    df[\"Runtime\"] = df[\"Runtime\"].str.replace(r\"\\.\", \" \", regex=True)\n",
    "    \n",
    "    # Entferne \"min\" und leere Leerzeichen\n",
    "    df[\"Runtime\"] = df[\"Runtime\"].str.replace(\"min\", \"\").str.strip()\n",
    "    \n",
    "    def convert_to_minutes(runtime):\n",
    "        '''Konvertiert Fimzzeiten einheitlich zu Minuten'''\n",
    "        \n",
    "        # Wenn die Runtime leer oder unnkown hat\n",
    "        if pd.isna(runtime) or runtime == \"unknown\" or runtime == \"\":\n",
    "            return np.nan\n",
    "        \n",
    "        # Prüfen, ob die Zeit in Stunden und Minuten vorliegt\n",
    "        if \"h\" in runtime:\n",
    "            hours, minutes = runtime.split(\"h\")\n",
    "            hours = int(hours.strip()) if hours.strip() else 0\n",
    "            minutes = int(minutes.strip()) if minutes.strip() else 0\n",
    "            total_minutes = hours * 60 + minutes\n",
    "        else:\n",
    "            # Falls nur Minuten vorhanden sind\n",
    "            total_minutes = int(runtime.strip())\n",
    "        \n",
    "        return f\"minutes:{total_minutes}\"\n",
    "\n",
    "    # Anwenden der Funktion auf die Runtime Spalte\n",
    "    df[\"Runtime\"] = df[\"Runtime\"].apply(convert_to_minutes)\n",
    "\n",
    "    return df"
   ]
  },
  {
   "cell_type": "code",
   "execution_count": null,
   "id": "d4544d3c-eb31-4dec-9929-5ac4467ad57f",
   "metadata": {},
   "outputs": [],
   "source": [
    "#fuer die Funktionn 'cleaning_series'\n",
    "def clean_runtime_column(df):\n",
    "    \"\"\"Bereinigt die Runtime-Spalte und berechnet Min, Max & Durchschnitt.\"\"\"\n",
    "\n",
    "    #entferne unnoetige Zeichenketten\n",
    "    runtime_col = df[\"Runtime\"].astype(str).str.replace(r\"[^\\d\\-–]\", \"\", regex=True)\n",
    "\n",
    "    def process_runtime(value):\n",
    "\n",
    "        #ersetze den \"En-Dash\" durch einen Bindestrich \n",
    "        value = value.replace(\"–\", \"-\")\n",
    "\n",
    "        #extrahiere alle Zahlen aus dem String\n",
    "        numbers = re.findall(r\"\\d+\", value)\n",
    "\n",
    "        if not numbers:\n",
    "            return np.nan\n",
    "\n",
    "        # wandle die Zeichen zu einer Liste von Zahlen um\n",
    "        numbers = list(map(int, numbers))\n",
    "\n",
    "        if len(numbers) == 1:\n",
    "            return f\"min:{numbers[0]},max:{numbers[0]},avg:{numbers[0]}\"\n",
    "\n",
    "        if len(numbers) == 2:\n",
    "            minimum, maximum = numbers\n",
    "            avg = (minimum + maximum) // 2\n",
    "            return f\"min:{minimum},max:{maximum},avg:{avg}\"\n",
    "\n",
    "        return np.nan\n",
    "\n",
    "    df[\"Runtime\"] = runtime_col.apply(process_runtime)\n",
    "    return df"
   ]
  },
  {
   "cell_type": "code",
   "execution_count": null,
   "id": "6f1df475-4c3a-4da0-a9fe-7a96d7c8c979",
   "metadata": {},
   "outputs": [],
   "source": [
    "#fuer die Funktion \"cleaning_series\" und \"cleaning_movies\"\n",
    "def extract_year(premiere_value):\n",
    "\n",
    "    # Falls NaN oder kein String, leere Rückgabe\n",
    "    if not isinstance(premiere_value, str):\n",
    "        return \"\"\n",
    "        \n",
    "    # Iteriere über die Jahre 2015-20\n",
    "    for year in range(2015, 2026):\n",
    "        if str(year) in premiere_value:\n",
    "            return str(year)\n",
    "    \n",
    "    return \"\"  # Falls kein Jahr gefunden wurde"
   ]
  },
  {
   "cell_type": "markdown",
   "id": "f64b7b97-73a7-4354-87f1-dbae6e1f86bd",
   "metadata": {},
   "source": [
    "### 1. Aufgabe: Webscrapen der Daten aus den Wikipedia-Seiten:\n",
    "### Netflix Originals Serien:\n",
    "[Netflix-Originals-Series](https://en.wikipedia.org/wiki/List_of_Netflix_original_programming)\n",
    "\n",
    "### Netflix Originals Filme:\n",
    "[Netflix-Originals-Movies-LIST](https://en.wikipedia.org/wiki/Lists_of_Netflix_original_films)\n",
    "\n",
    "[2015-2017](https://en.wikipedia.org/wiki/List_of_Netflix_original_films_(2015%E2%80%932017))\n",
    "[2018](https://en.wikipedia.org/wiki/List_of_Netflix_original_films_(2018))\n",
    "[2019](https://en.wikipedia.org/wiki/List_of_Netflix_original_films_(2019))\n",
    "[2020](https://en.wikipedia.org/wiki/List_of_Netflix_original_films_(2020))\n",
    "[2021](https://en.wikipedia.org/wiki/List_of_Netflix_original_films_(2021))\n",
    "[2022](https://en.wikipedia.org/wiki/List_of_Netflix_original_films_(2022))\n",
    "[2023](https://en.wikipedia.org/wiki/List_of_Netflix_original_films_(2023))\n",
    "[2024](https://en.wikipedia.org/wiki/List_of_Netflix_original_films_(2024))"
   ]
  },
  {
   "cell_type": "code",
   "execution_count": null,
   "id": "af30f763-92ec-4818-ac02-639f7390c042",
   "metadata": {},
   "outputs": [],
   "source": [
    "def scraping_netflix_originals():\n",
    "    series_url = \"https://en.wikipedia.org/wiki/List_of_Netflix_original_programming\"\n",
    "    movie_urls = [\n",
    "        \"https://en.wikipedia.org/wiki/List_of_Netflix_original_films_(2015%E2%80%932017)\",\n",
    "        \"https://en.wikipedia.org/wiki/List_of_Netflix_original_films_(2018)\",\n",
    "        \"https://en.wikipedia.org/wiki/List_of_Netflix_original_films_(2019)\",\n",
    "        \"https://en.wikipedia.org/wiki/List_of_Netflix_original_films_(2020)\",\n",
    "        \"https://en.wikipedia.org/wiki/List_of_Netflix_original_films_(2021)\",\n",
    "        \"https://en.wikipedia.org/wiki/List_of_Netflix_original_films_(2022)\",\n",
    "        \"https://en.wikipedia.org/wiki/List_of_Netflix_original_films_(2023)\",\n",
    "        \"https://en.wikipedia.org/wiki/List_of_Netflix_original_films_(2024)#Shorts\",\n",
    "    ]\n",
    "    \n",
    "    # Netflix Serien scrapen\n",
    "    try:\n",
    "        df_series_list = pd.read_html(series_url)\n",
    "        df_of_series = pd.concat(df_series_list, ignore_index=True)\n",
    "        df_of_series.to_csv(\"netflix_series.csv\", index=False)\n",
    "    except Exception as e:\n",
    "        print(f\"Fehler beim Scrapen der Serien: {e}\")\n",
    "\n",
    "    # Netflix Filme scrapen\n",
    "    movie_list = []\n",
    "    for url in movie_urls:\n",
    "        try:\n",
    "            df_movies_list = pd.read_html(url)\n",
    "            movie_list.append(pd.concat(df_movies_list, ignore_index=True))\n",
    "        except Exception as e:\n",
    "            print(f\"Fehler beim Scrapen der Filme von {url}: {e}\")\n",
    "\n",
    "    if movie_list:\n",
    "        df_of_movies = pd.concat(movie_list, ignore_index=True)\n",
    "        df_of_movies.to_csv(\"netflix_movies.csv\", index=False)\n",
    "    else:\n",
    "        print(\"Keine Filme gefunden!\")\n",
    "\n",
    "scraping_netflix_originals()"
   ]
  },
  {
   "cell_type": "markdown",
   "id": "74b68c9f-099a-43ee-bffa-ab072c6ffaa8",
   "metadata": {},
   "source": [
    "### 2.Aufgabe: Bereinigen der Daten"
   ]
  },
  {
   "cell_type": "code",
   "execution_count": null,
   "id": "5fed6beb-4606-45d6-ac3f-eae8ce54a22e",
   "metadata": {},
   "outputs": [],
   "source": [
    "def cleaning_series():\n",
    "    # Daten laden\n",
    "    df = pd.read_csv(\"netflix_series.csv\")\n",
    "\n",
    "    # Duplikate entfernen\n",
    "    df.drop_duplicates(inplace=True)\n",
    "\n",
    "    # Falls \"Genre\" leer ist, mit \"Subject\" befüllen\n",
    "    df[\"Genre\"] = df[\"Genre\"].fillna(df[\"Subject\"])\n",
    "\n",
    "    # Nur relevante Spalten behalten\n",
    "    df = df.loc[:, [\"Title\", \"Genre\", \"Runtime\", \"Premiere\", \"Status\", \"Subject\"]]\n",
    "\n",
    "    # Zeilen entfernen, die Awaiting release beinhalten\n",
    "    df = df[df[\"Title\"] != \"Awaiting release\"]\n",
    "\n",
    "    # Formatierung von \"Genre\" und \"Runtime\"\n",
    "    df[\"Genre\"] = df[\"Genre\"].astype(str).str.replace(\"/\", \",\", regex=False)\n",
    "    df[\"Runtime\"] = df[\"Runtime\"].astype(str).str.replace(\"min\", \"\", regex=False)\n",
    "\n",
    "    # Laufzeitspalte bereinigen\n",
    "    df = clean_runtime_column(df)\n",
    "\n",
    "    # Entferne Zeilen mit zu vielen fehlenden Werten\n",
    "    #df = df.dropna(thresh=5)\n",
    "\n",
    "    # Entferne Referenznummern ([1], [2], etc.) aus allen Spalten\n",
    "    df.replace(r\"\\[\\d+\\]\", \"\", regex=True, inplace=True)\n",
    "\n",
    "    # Premiere-Daten in Jahreswerte umwandeln\n",
    "    df[\"Premiere\"] = df[\"Premiere\"].apply(extract_year)\n",
    "\n",
    "    # Fehlende Werte mit \"Unknown\" füllen und entfernen, und die Zeilen entfernen, die in Spalte Status enthalten sind \n",
    "    df.fillna(\"Unknown\", inplace=True)\n",
    "    df = df[df[\"Status\"] != \"Unknown\"]\n",
    "\n",
    "    # Bereinigte Daten speichern\n",
    "    df.to_csv(\"netflix_series_clean.csv\", index=False)\n",
    "\n",
    "cleaning_series()"
   ]
  },
  {
   "cell_type": "code",
   "execution_count": null,
   "id": "1b80812e-a401-441b-9e1e-b91619ebf088",
   "metadata": {},
   "outputs": [],
   "source": [
    "def cleaning_movies():\n",
    "    df = pd.read_csv(\"netflix_movies.csv\")\n",
    "\n",
    "    # Duplikate entfernen\n",
    "    df = df.drop_duplicates()\n",
    "\n",
    "    # benenne Spalten um für die Einheitlichkeit\n",
    "    df.rename(columns={\"Release date\": \"Premiere\"}, inplace=True)\n",
    "\n",
    "    # Nur relevante Spalten behalten\n",
    "    df = df.loc[:, [\"Title\", \"Premiere\", \"Genre\", \"Runtime\", \"Language\"]]\n",
    "\n",
    "    # Entferne Zeilen, die komplett leer sind\n",
    "    df.dropna(how=\"all\", inplace=True)\n",
    "\n",
    "    # Falls \"Genre\" leer ist, mit \"Documentary\" auffüllen\n",
    "    df[\"Genre\"] = df[\"Genre\"].fillna(\"Documentary\")\n",
    "\n",
    "    # Bereinige das Genre-Format\n",
    "    df[\"Genre\"] = df[\"Genre\"].str.replace(r\"[\\\\/]\", \"\", regex=True)\n",
    "    df[\"Genre\"] = df[\"Genre\"].str.replace(\"-\", \" \", regex=True)\n",
    "\n",
    "    # Laufzeit in Minuten umwandeln\n",
    "    df = clean_and_convert_runtime_to_minutes(df)\n",
    "\n",
    "    # Premiere-Datum bereinigen\n",
    "    df[\"Premiere\"] = df[\"Premiere\"].apply(extract_year)\n",
    "\n",
    "    # Speichere die bereinigte Datei\n",
    "    df.to_csv(\"netflix_movies_clean.csv\", index=False)\n",
    "\n",
    "cleaning_movies()"
   ]
  },
  {
   "cell_type": "markdown",
   "id": "7eb8f7c3-85d9-47c2-94bc-8061a8732d22",
   "metadata": {},
   "source": [
    "### 3. Aufgabe: Einsichten"
   ]
  },
  {
   "cell_type": "code",
   "execution_count": null,
   "id": "26b15ace-a6ac-4be9-89a0-7131b591d7df",
   "metadata": {},
   "outputs": [],
   "source": [
    "# Laden der bereinigten CSV-Dateien\n",
    "series = pd.read_csv(\"netflix_series_clean.csv\")\n",
    "movies = pd.read_csv(\"netflix_movies_clean.csv\")\n",
    "\n",
    "# Hinzufügen der Kategorie-Spalte\n",
    "series[\"category\"] = \"Series\"\n",
    "movies[\"category\"] = \"Movies\"\n",
    "\n",
    "# Zusammenführen der beiden DataFrames\n",
    "df = pd.concat([series, movies], ignore_index=True)"
   ]
  },
  {
   "cell_type": "markdown",
   "id": "37b24a0c-83a2-4492-a972-3cd69dac9728",
   "metadata": {},
   "source": [
    "### 3.1 Einsicht: In welchen Genres wurden die meisten Filme und Serien produziert?"
   ]
  },
  {
   "cell_type": "code",
   "execution_count": null,
   "id": "2642aa99-bdd8-44f8-bf8e-dd23825c7733",
   "metadata": {},
   "outputs": [],
   "source": [
    "# Funktion zum Zählen und Plotten der häufigsten Genres\n",
    "def plot_top_ten_genres(df):\n",
    "\n",
    "    # die Genres, die wir zählen wollen in eine Liste\n",
    "    valid_genres = df[\"Genre\"].str.replace(\",\", \" \").str.split(r'\\s+', expand=True).stack().str.strip().str.lower()\n",
    "\n",
    "    # Häufigkeit der Genres zählen\n",
    "    count_genres = valid_genres.value_counts().head(10)\n",
    "\n",
    "    # Diagramm erstellen\n",
    "    plt.figure(figsize=(12,6))\n",
    "    plt.title(\"Die Top 10 Genres in den Netflix Originals\")\n",
    "    plt.xlabel(\"Genre\")\n",
    "    plt.ylabel(\"Anzahl der Filme und Serien unter einem Genre\")\n",
    "    count_genres.plot(kind=\"bar\")\n",
    "    plt.xticks(rotation=0)\n",
    "    plt.show()\n",
    "    \n",
    "plot_top_ten_genres(df)"
   ]
  },
  {
   "cell_type": "markdown",
   "id": "0d9fbc01-e74c-4a0a-844c-059bfbe29da2",
   "metadata": {},
   "source": [
    "Man erkennt, dass unter der Anzahl der produzierten Originals, das Genre Comedy knapp das Genre Drama schlägt. Überraschenderweise ist das Genre Documentary auf Platz 3. "
   ]
  },
  {
   "cell_type": "markdown",
   "id": "0928195d-0828-4b88-8a1d-1d7660845de9",
   "metadata": {},
   "source": [
    "### 3.2 Einsicht: Wie viele Originals wurden pro Jahr veröffentlicht?"
   ]
  },
  {
   "cell_type": "code",
   "execution_count": null,
   "id": "845e0180-9aa0-4933-9e14-998fb0d2768f",
   "metadata": {},
   "outputs": [],
   "source": [
    "def plot_yearly_releases(df):\n",
    "    \n",
    "    # Filtere Filme, deren Premiere 2025 ist\n",
    "    df = df[df['Premiere'] != 2025]\n",
    "    \n",
    "    # Zähle die Veröffentlichungen pro Jahr\n",
    "    count_premiere = df[\"Premiere\"].value_counts().sort_index()\n",
    "    \n",
    "    # Diagramm erstellen\n",
    "    plt.figure(figsize=(12,6))\n",
    "    count_premiere.plot(kind=\"line\", marker=\"o\")\n",
    "    plt.title(\"Anzahl der Netflix Originals pro Jahr\")\n",
    "    plt.xlabel(\"Jahr\")\n",
    "    plt.ylabel(\"Anzahl der Veröffentlichungen\")\n",
    "    plt.xticks(ticks=np.arange(2015, 2025, step=1))\n",
    "    plt.yticks(ticks=np.arange(0, 401, step=25))\n",
    "    plt.xticks(rotation=0)\n",
    "    plt.show()\n",
    "\n",
    "plot_yearly_releases(df)"
   ]
  },
  {
   "cell_type": "markdown",
   "id": "f37b7a9c-88fa-47af-8f40-5fcfa01835ac",
   "metadata": {},
   "source": [
    "Die Originals 2025 habe ich zu Anfang des Projektes rausgelassen, da bis zu dem Tag zu wenige Originals veröffentlicht wurden. Das Diagramm zeigt, dass Netflix sich bemüht weltweit Serien und Filme zu produzieren. Auch in der Zeit von Corona ist die Anzahl stark gestiegen."
   ]
  },
  {
   "cell_type": "markdown",
   "id": "910c6b8d-3af2-4170-8d32-1f6f0325b743",
   "metadata": {},
   "source": [
    "### 3.3 Einsicht: Wie ist die durchschnittliche Laufzeit pro Original? "
   ]
  },
  {
   "cell_type": "code",
   "execution_count": null,
   "id": "d661e60d-63c6-4dd5-bd5a-4fda4eb60a21",
   "metadata": {},
   "outputs": [],
   "source": [
    "def avg_runtime(df):\n",
    "    \n",
    "    # Entferne 2025 als Premiere\n",
    "    df = df[df[\"Premiere\"] != 2025]\n",
    "\n",
    "    # Funktion zum Extrahieren des Durchschnitts an\n",
    "    df = extract_avg_of_runtime(df)\n",
    "\n",
    "    # Berechnung des Durchschnitts der Laufzeit pro Kategorie\n",
    "    avg_runtime_per_cat = df.groupby(\"category\")[\"Runtime\"].mean() \n",
    "\n",
    "    # Diagramm erstellen\n",
    "    plt.figure(figsize=(8, 6))\n",
    "    avg_runtime_per_cat.plot(kind=\"bar\")\n",
    "    plt.title(\"Durchschnittliche Laufzeit von Netflix Originals\")\n",
    "    plt.xlabel(\"Kategorie\")\n",
    "    plt.ylabel(\"Durchschnittliche Laufzeit in Minuten\")\n",
    "    plt.xticks(rotation=0)\n",
    "    plt.show()\n",
    "\n",
    "avg_runtime(df)"
   ]
  },
  {
   "cell_type": "markdown",
   "id": "6267ed08-31f4-49d8-b566-d0115de49c7f",
   "metadata": {},
   "source": [
    "Die durchschnittliche Laufzeit der Filme beträgt 95 Minuten, während die der Serien ungefähr 45 Minuten"
   ]
  },
  {
   "cell_type": "markdown",
   "id": "32ce3c6a-328e-4db4-93da-04c5bf573dc7",
   "metadata": {},
   "source": [
    "### 3.4 Einsicht: Wie viele Serien wurden Renewed für 2025?"
   ]
  },
  {
   "cell_type": "code",
   "execution_count": null,
   "id": "b425ff07-807b-4d3e-b232-c2b471040892",
   "metadata": {},
   "outputs": [],
   "source": [
    "def renewed_series():\n",
    "    \n",
    "    # Filtern nach Serien, die verlängert wurden\n",
    "    renewed_series = series[series['Status'].str.contains(\"Renewed\", case=False, na=False)]\n",
    "\n",
    "    # Aufteilen der Genres in eine Liste für jedes Genre\n",
    "    all_genres = renewed_series[\"Genre\"].str.replace(\",\", \" \").str.split(r'\\s+', expand=True).stack().str.strip().str.lower()\n",
    "\n",
    "    # Häufigkeit der Genres zählen\n",
    "    genre_counts = all_genres.value_counts().head(10)\n",
    "\n",
    "    # Diagramm erstellen\n",
    "    plt.figure(figsize=(12, 6))\n",
    "    plt.title(\"Häufigkeit der Genres bei Serien, die eine Verlängerung bekommen haben\")\n",
    "    plt.xlabel(\"Genre\")\n",
    "    plt.ylabel(\"Anzahl der Verlängerungen\")\n",
    "    genre_counts.plot(kind=\"bar\")\n",
    "    plt.xticks(rotation=0)\n",
    "    plt.show()\n",
    "\n",
    "renewed_series()"
   ]
  },
  {
   "cell_type": "markdown",
   "id": "f3ca5abe-a851-43dd-bd88-46da895ec989",
   "metadata": {},
   "source": [
    "Für das Jahr 2025 wurden vor allem Drama, von der Anzahl aus, um weitere Folgen verlängert. Man erkennt jedoch, dass\n",
    "die Verlängerungen der Serien in sehr vielen Genres gleichmäßig zu finden sind, was zeigt, dass Netflix sich bemüht alle Fans jeglichen Genres  mit neuen Inhalten zufrieden zu stellen, und eventuell so ihr Abo bei zu behalten, wenn angekündgt wird: \"Es folgt eine weitere Staffel  2025.\""
   ]
  }
 ],
 "metadata": {
  "kernelspec": {
   "display_name": "Python 3",
   "language": "python",
   "name": "python3"
  },
  "language_info": {
   "codemirror_mode": {
    "name": "ipython",
    "version": 3
   },
   "file_extension": ".py",
   "mimetype": "text/x-python",
   "name": "python",
   "nbconvert_exporter": "python",
   "pygments_lexer": "ipython3",
   "version": "3.13.2"
  }
 },
 "nbformat": 4,
 "nbformat_minor": 5
}
